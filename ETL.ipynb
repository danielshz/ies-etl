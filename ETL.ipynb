{
  "nbformat": 4,
  "nbformat_minor": 0,
  "metadata": {
    "colab": {
      "provenance": []
    },
    "kernelspec": {
      "name": "python3",
      "display_name": "Python 3"
    },
    "language_info": {
      "name": "python"
    }
  },
  "cells": [
    {
      "cell_type": "markdown",
      "source": [
        "# Imports"
      ],
      "metadata": {
        "id": "7kkVLffD46zp"
      }
    },
    {
      "cell_type": "code",
      "source": [
        "import sqlite3\n",
        "import pandas as pd"
      ],
      "metadata": {
        "id": "kNO6fmuQ45aq"
      },
      "execution_count": null,
      "outputs": []
    },
    {
      "cell_type": "markdown",
      "source": [
        "# Criar tabela IES dos Microdados"
      ],
      "metadata": {
        "id": "VUl_8-JuNj6p"
      }
    },
    {
      "cell_type": "code",
      "source": [
        "conn = sqlite3.connect(\"IES.db\")\n",
        "cursor = conn.cursor()\n",
        "\n",
        "cursor.execute(\"\"\"\n",
        "CREATE TABLE IES (\n",
        "    NU_ANO_CENSO INTEGER,\n",
        "    CO_IES INTEGER,\n",
        "    CO_MUNICIPIO_IES INTEGER,\n",
        "\n",
        "    NO_REGIAO_IES TEXT,\n",
        "    NO_UF_IES TEXT,\n",
        "    SG_UF_IES TEXT,\n",
        "    NO_MUNICIPIO_IES TEXT,\n",
        "    IN_CAPITAL_IES INTEGER,\n",
        "\n",
        "    NO_IES TEXT,\n",
        "    SG_IES TEXT,\n",
        "    TP_ORGANIZACAO_ACADEMICA TEXT,\n",
        "    TP_REDE TEXT,\n",
        "    TP_CATEGORIA_ADMINISTRATIVA TEXT,\n",
        "\n",
        "    QT_DOC_EXE INTEGER,\n",
        "    QT_DOC_EX_0_29 INTEGER,\n",
        "    QT_DOC_EX_30_34 INTEGER,\n",
        "    QT_DOC_EX_35_39 INTEGER,\n",
        "    QT_DOC_EX_40_44 INTEGER,\n",
        "    QT_DOC_EX_45_49 INTEGER,\n",
        "    QT_DOC_EX_50_54 INTEGER,\n",
        "    QT_DOC_EX_55_59 INTEGER,\n",
        "    QT_DOC_EX_60_MAIS INTEGER,\n",
        "    QT_DOC_EX_AMARELA INTEGER,\n",
        "    QT_DOC_EX_BRANCA INTEGER,\n",
        "    QT_DOC_EX_COR_ND INTEGER,\n",
        "    QT_DOC_TOTAL INTEGER,\n",
        "    QT_DOC_EX_FEMI INTEGER,\n",
        "    QT_DOC_EX_MASC INTEGER,\n",
        "    QT_DOC_EX_PRETA INTEGER,\n",
        "    QT_DOC_EX_PARDA INTEGER,\n",
        "    QT_DOC_EX_INDIGENA INTEGER,\n",
        "    PRIMARY KEY (NU_ANO_CENSO, CO_IES, CO_MUNICIPIO_IES)\n",
        ");\n",
        "\"\"\")\n",
        "\n",
        "conn.commit()\n",
        "conn.close()"
      ],
      "metadata": {
        "id": "1MUpB_DiNtya"
      },
      "execution_count": null,
      "outputs": []
    },
    {
      "cell_type": "markdown",
      "source": [
        "## Popular tabela"
      ],
      "metadata": {
        "id": "ypeie0R7NzNq"
      }
    },
    {
      "cell_type": "code",
      "source": [
        "csv_list = ['MICRODADOS_CADASTRO_IES_2013',\n",
        "            'MICRODADOS_CADASTRO_IES_2014',\n",
        "            'MICRODADOS_CADASTRO_IES_2015',\n",
        "            'MICRODADOS_CADASTRO_IES_2016',\n",
        "            'MICRODADOS_CADASTRO_IES_2017',\n",
        "            'MICRODADOS_CADASTRO_IES_2018',\n",
        "            'MICRODADOS_CADASTRO_IES_2019',\n",
        "            'MICRODADOS_CADASTRO_IES_2020',\n",
        "            'MICRODADOS_CADASTRO_IES_2021',\n",
        "            'MICRODADOS_ED_SUP_IES_2022']\n",
        "\n",
        "table_columns = ['NU_ANO_CENSO',\n",
        "    'CO_IES',\n",
        "    'CO_MUNICIPIO_IES',\n",
        "\n",
        "    'NO_REGIAO_IES',\n",
        "    'NO_UF_IES',\n",
        "    'SG_UF_IES',\n",
        "    'NO_MUNICIPIO_IES',\n",
        "    'IN_CAPITAL_IES',\n",
        "\n",
        "    'NO_IES',\n",
        "    'SG_IES',\n",
        "    'TP_ORGANIZACAO_ACADEMICA',\n",
        "    'TP_REDE',\n",
        "    'TP_CATEGORIA_ADMINISTRATIVA',\n",
        "\n",
        "    'QT_DOC_EXE',\n",
        "    'QT_DOC_EX_0_29',\n",
        "    'QT_DOC_EX_30_34',\n",
        "    'QT_DOC_EX_35_39',\n",
        "    'QT_DOC_EX_40_44',\n",
        "    'QT_DOC_EX_45_49',\n",
        "    'QT_DOC_EX_50_54',\n",
        "    'QT_DOC_EX_55_59',\n",
        "    'QT_DOC_EX_60_MAIS',\n",
        "    'QT_DOC_EX_AMARELA',\n",
        "    'QT_DOC_EX_BRANCA',\n",
        "    'QT_DOC_EX_COR_ND',\n",
        "    'QT_DOC_TOTAL',\n",
        "    'QT_DOC_EX_FEMI',\n",
        "    'QT_DOC_EX_MASC',\n",
        "    'QT_DOC_EX_PRETA',\n",
        "    'QT_DOC_EX_PARDA',\n",
        "    'QT_DOC_EX_INDIGENA']"
      ],
      "metadata": {
        "id": "_Cqt9E-xQwxq"
      },
      "execution_count": null,
      "outputs": []
    },
    {
      "cell_type": "code",
      "source": [
        "tp_org_adad = {'1': 'Universidade',\n",
        "    '2': 'Centro Universitário',\n",
        "    '3': 'Faculdade',\n",
        "    '4': 'Instituto Federal de Educação, Ciência e Tecnologia',\n",
        "    '5': 'Centro Federal de Educação Tecnológica'}\n",
        "\n",
        "tp_cat_adm = {'1': 'Pública Federal',\n",
        "    '2': 'Pública Estadual',\n",
        "    '3': 'Pública Municipal',\n",
        "    '4': 'Privada com fins lucrativos',\n",
        "    '5': 'Privada sem fins lucrativos',\n",
        "    '6': 'Privada - Particular em sentido estrito',\n",
        "    '7': 'Especial',\n",
        "    '8': 'Privada comunitária',\n",
        "    '9': 'Privada confessional'}\n",
        "\n",
        "tp_rede = {'1': 'Pública',\n",
        "    '2': 'Pública',\n",
        "    '3': 'Pública',\n",
        "    '4': 'Privada',\n",
        "    '5': 'Privada',\n",
        "    '6': 'Privada',\n",
        "    '7': 'Especial',\n",
        "    '8': 'Privada',\n",
        "    '9': 'Privada'}"
      ],
      "metadata": {
        "id": "5Kohpu-jQubD"
      },
      "execution_count": null,
      "outputs": []
    },
    {
      "cell_type": "code",
      "source": [
        "conn = sqlite3.connect('IES.db')\n",
        "cursor = conn.cursor()\n",
        "\n",
        "for csv_file in csv_list:\n",
        "    try:\n",
        "        df = pd.read_csv(csv_file + '.CSV', encoding='latin-1', low_memory=False, sep=';')\n",
        "\n",
        "        for index, row in df.iterrows():\n",
        "            placeholders = ', '.join(['?'] * len(table_columns))\n",
        "            columns = ', '.join(table_columns)\n",
        "\n",
        "            insert_query = f\"INSERT INTO IES ({columns}) VALUES ({placeholders})\"\n",
        "\n",
        "            # Mapeamento dos tipos\n",
        "            row['TP_ORGANIZACAO_ACADEMICA'] = tp_org_adad[str(row['TP_ORGANIZACAO_ACADEMICA'])]\n",
        "\n",
        "            cat_adm = str(row['TP_CATEGORIA_ADMINISTRATIVA'])\n",
        "\n",
        "            row['TP_CATEGORIA_ADMINISTRATIVA'] = tp_cat_adm[cat_adm]\n",
        "            row['TP_REDE'] = tp_rede[cat_adm]\n",
        "\n",
        "            data = tuple(row[col] for col in table_columns)\n",
        "\n",
        "            try:\n",
        "                cursor.execute(insert_query, data)\n",
        "            except Exception as e:\n",
        "                print(f\"Error inserting data from {csv_file}.csv, row {index}: {e}\")\n",
        "\n",
        "        conn.commit()\n",
        "        print(f\"Data from {csv_file}.csv inserted successfully.\")\n",
        "\n",
        "    except Exception as e:\n",
        "        print(f\"An error occurred while processing {csv_file}.csv: {e}\")\n",
        "\n",
        "conn.close()"
      ],
      "metadata": {
        "id": "sF8C10mgN6IR",
        "colab": {
          "base_uri": "https://localhost:8080/"
        },
        "outputId": "4aefd301-d0c0-412b-ad4f-ee81271d38ee"
      },
      "execution_count": null,
      "outputs": [
        {
          "output_type": "stream",
          "name": "stdout",
          "text": [
            "Data from MICRODADOS_CADASTRO_IES_2013.csv inserted successfully.\n",
            "Data from MICRODADOS_CADASTRO_IES_2014.csv inserted successfully.\n",
            "Data from MICRODADOS_CADASTRO_IES_2015.csv inserted successfully.\n",
            "Data from MICRODADOS_CADASTRO_IES_2016.csv inserted successfully.\n",
            "Data from MICRODADOS_CADASTRO_IES_2017.csv inserted successfully.\n",
            "Data from MICRODADOS_CADASTRO_IES_2018.csv inserted successfully.\n",
            "Data from MICRODADOS_CADASTRO_IES_2019.csv inserted successfully.\n",
            "Data from MICRODADOS_CADASTRO_IES_2020.csv inserted successfully.\n",
            "Data from MICRODADOS_CADASTRO_IES_2021.csv inserted successfully.\n",
            "Data from MICRODADOS_ED_SUP_IES_2022.csv inserted successfully.\n"
          ]
        }
      ]
    },
    {
      "cell_type": "code",
      "source": [
        "conn = sqlite3.connect('IES.db')\n",
        "query = \"\"\"\n",
        "SELECT NO_IES, SG_IES, QT_DOC_EX_BRANCA, QT_DOC_EX_PRETA, QT_DOC_EX_PARDA\n",
        "FROM IES\n",
        "WHERE NO_UF_IES IN ('São Paulo', 'Rio de Janeiro') AND NU_ANO_CENSO = 2022\n",
        "ORDER BY QT_DOC_EX_BRANCA + QT_DOC_EX_PRETA + QT_DOC_EX_PARDA DESC\n",
        "LIMIT 30;\n",
        "\"\"\"\n",
        "df = pd.read_sql_query(query, conn)\n",
        "print(df)\n",
        "conn.close()"
      ],
      "metadata": {
        "colab": {
          "base_uri": "https://localhost:8080/"
        },
        "id": "OdkrV3wXyapG",
        "outputId": "c91bbbd8-e85d-476b-ce85-f254c66fad8f"
      },
      "execution_count": null,
      "outputs": [
        {
          "output_type": "stream",
          "name": "stdout",
          "text": [
            "                                               NO_IES          SG_IES  \\\n",
            "0                           UNIVERSIDADE DE SÃO PAULO             USP   \n",
            "1                               UNIVERSIDADE PAULISTA            UNIP   \n",
            "2   INSTITUTO FEDERAL DE EDUCAÇÃO, CIÊNCIA E TECNO...            IFSP   \n",
            "3                     UNIVERSIDADE FEDERAL FLUMINENSE             UFF   \n",
            "4              UNIVERSIDADE FEDERAL DO RIO DE JANEIRO            UFRJ   \n",
            "5                   UNIVERSIDADE ESTADUAL DE CAMPINAS         UNICAMP   \n",
            "6                   UNIVERSIDADE FEDERAL DE SÃO PAULO         UNIFESP   \n",
            "7                          UNIVERSIDADE NOVE DE JULHO         UNINOVE   \n",
            "8       PONTIFÍCIA UNIVERSIDADE CATÓLICA DE SÃO PAULO           PUCSP   \n",
            "9   PONTIFÍCIA UNIVERSIDADE CATÓLICA DO RIO DE JAN...         PUC-RIO   \n",
            "10               UNIVERSIDADE PRESBITERIANA MACKENZIE       MACKENZIE   \n",
            "11  UNIVERSIDADE ESTADUAL PAULISTA JÚLIO DE MESQUI...           UNESP   \n",
            "12                       UNIVERSIDADE ANHEMBI MORUMBI             UAM   \n",
            "13                 UNIVERSIDADE FEDERAL DE SÃO CARLOS          UFSCAR   \n",
            "14               FUNDAÇÃO UNIVERSIDADE FEDERAL DO ABC           UFABC   \n",
            "15                       UNIVERSIDADE SÃO JUDAS TADEU            USJT   \n",
            "16                   UNIVERSIDADE SALGADO DE OLIVEIRA        UNIVERSO   \n",
            "17       UNIVERSIDADE MUNICIPAL DE SÃO CAETANO DO SUL            USCS   \n",
            "18                       UNIVERSIDADE CRUZEIRO DO SUL         UNICSUL   \n",
            "19       UNIVERSIDADE FEDERAL RURAL DO RIO DE JANEIRO           UFRRJ   \n",
            "20                           UNIVERSIDADE SANTO AMARO           UNISA   \n",
            "21               UNIVERSIDADE ANHANGUERA DE SÃO PAULO      UNIAN - SP   \n",
            "22                     UNIVERSIDADE DE RIBEIRÃO PRETO          UNAERP   \n",
            "23                         UNIVERSIDADE ESTÁCIO DE SÁ           UNESA   \n",
            "24                            UNIVERSIDADE DE TAUBATÉ          UNITAU   \n",
            "25                 CENTRO UNIVERSITÁRIO AUGUSTO MOTTA         UNISUAM   \n",
            "26                   UNIVERSIDADE CIDADE DE SÃO PAULO          UNICID   \n",
            "27           Universidade Universus Veritas Guarulhos  Univeritas UNG   \n",
            "28  CENTRO UNIVERSITÁRIO DAS FACULDADES METROPOLIT...             FMU   \n",
            "29                    UNIVERSIDADE DE MOGI DAS CRUZES             UMC   \n",
            "\n",
            "    QT_DOC_EX_BRANCA  QT_DOC_EX_PRETA  QT_DOC_EX_PARDA  \n",
            "0               5313              217                9  \n",
            "1               3348               86              372  \n",
            "2               1761               99              260  \n",
            "3               1587              103              238  \n",
            "4               1592               72              232  \n",
            "5               1494               25               65  \n",
            "6               1412               35               89  \n",
            "7               1324               19               83  \n",
            "8               1139               10               24  \n",
            "9               1069               18               61  \n",
            "10               923               16              110  \n",
            "11               900               14               42  \n",
            "12               894                3                3  \n",
            "13               788               13               76  \n",
            "14               651               16               75  \n",
            "15               667                9               30  \n",
            "16               509               37              141  \n",
            "17               603               12               22  \n",
            "18               501               10              125  \n",
            "19               455               44              127  \n",
            "20               469               13               95  \n",
            "21               465               22               84  \n",
            "22               521                1               17  \n",
            "23               393               25              116  \n",
            "24               461                6               26  \n",
            "25               316               52              122  \n",
            "26               408               10               65  \n",
            "27               339                6              132  \n",
            "28               443                5               26  \n",
            "29               397                4               27  \n"
          ]
        }
      ]
    },
    {
      "cell_type": "markdown",
      "source": [
        "# DTempo"
      ],
      "metadata": {
        "id": "PB0IpDdlOWSm"
      }
    },
    {
      "cell_type": "code",
      "source": [
        "conn = sqlite3.connect('IES.db')\n",
        "cursor = conn.cursor()\n",
        "\n",
        "cursor.execute(\"\"\"\n",
        "    SELECT DISTINCT NU_ANO_CENSO as ano, ROW_NUMBER() OVER (ORDER BY NU_ANO_CENSO) AS chave_tempo\n",
        "    FROM IES\n",
        "    ORDER BY NU_ANO_CENSO;\n",
        "\"\"\")\n",
        "\n",
        "results = cursor.fetchall()\n",
        "dtempo_df = pd.DataFrame(results, columns=['ano', 'chave_tempo'])\n",
        "\n",
        "dtempo_df.to_csv('DTempo.csv', index=False)\n",
        "\n",
        "conn.close()"
      ],
      "metadata": {
        "id": "pzzb5X6tWpAd"
      },
      "execution_count": null,
      "outputs": []
    },
    {
      "cell_type": "markdown",
      "source": [
        "## Tabela auxiliar"
      ],
      "metadata": {
        "id": "O4n8YcJofpOU"
      }
    },
    {
      "cell_type": "code",
      "source": [
        "conn = sqlite3.connect('IES.db')\n",
        "cursor = conn.cursor()\n",
        "\n",
        "cursor.execute('''\n",
        "    CREATE TABLE DTempo (\n",
        "        ano INTEGER,\n",
        "        chave_tempo INTEGER PRIMARY KEY\n",
        "    )\n",
        "''')\n",
        "\n",
        "conn.commit()\n",
        "\n",
        "for index, row in dtempo_df.iterrows():\n",
        "    cursor.execute('''\n",
        "        INSERT INTO DTempo (ano, chave_tempo)\n",
        "        VALUES (?, ?)\n",
        "    ''', (int(row['ano']), int(row['chave_tempo'])))\n",
        "\n",
        "conn.commit()\n",
        "conn.close()"
      ],
      "metadata": {
        "id": "xyyGh_1SfLbx"
      },
      "execution_count": null,
      "outputs": []
    },
    {
      "cell_type": "markdown",
      "source": [
        "# DGeografica"
      ],
      "metadata": {
        "id": "7E0bDT-8ZNEX"
      }
    },
    {
      "cell_type": "code",
      "source": [
        "conn = sqlite3.connect('IES.db')\n",
        "cursor = conn.cursor()\n",
        "\n",
        "cursor.execute(\"\"\"\n",
        "    SELECT\n",
        "        NO_REGIAO_IES as regiao,\n",
        "        NO_UF_IES as nome_uf,\n",
        "        SG_UF_IES as sigla_uf,\n",
        "        NO_MUNICIPIO_IES as municipio,\n",
        "        IN_CAPITAL_IES as capital,\n",
        "        CO_MUNICIPIO_IES,\n",
        "        ROW_NUMBER() OVER (ORDER BY CO_MUNICIPIO_IES) AS chave_geografica\n",
        "    FROM IES\n",
        "    GROUP BY CO_MUNICIPIO_IES;\n",
        "\"\"\")\n",
        "\n",
        "results = cursor.fetchall()\n",
        "dgeografica_df = pd.DataFrame(results, columns=['regiao', 'nome_uf', 'sigla_uf', 'municipio', 'capital', 'CO_MUNICIPIO_IES', 'chave_geografica'])\n",
        "dgeografica_df_result = dgeografica_df.drop(columns=['CO_MUNICIPIO_IES'])\n",
        "\n",
        "dgeografica_df_result.to_csv('DGeografica.csv', index=False)\n",
        "\n",
        "conn.close()"
      ],
      "metadata": {
        "id": "NXAxyt2qZQFd",
        "colab": {
          "base_uri": "https://localhost:8080/",
          "height": 211
        },
        "outputId": "bd46c04e-c0df-4e10-f648-acc8e8e731d1"
      },
      "execution_count": null,
      "outputs": [
        {
          "output_type": "error",
          "ename": "NameError",
          "evalue": "name 'sqlite3' is not defined",
          "traceback": [
            "\u001b[0;31m---------------------------------------------------------------------------\u001b[0m",
            "\u001b[0;31mNameError\u001b[0m                                 Traceback (most recent call last)",
            "\u001b[0;32m<ipython-input-1-34ea4fcdc2b5>\u001b[0m in \u001b[0;36m<cell line: 1>\u001b[0;34m()\u001b[0m\n\u001b[0;32m----> 1\u001b[0;31m \u001b[0mconn\u001b[0m \u001b[0;34m=\u001b[0m \u001b[0msqlite3\u001b[0m\u001b[0;34m.\u001b[0m\u001b[0mconnect\u001b[0m\u001b[0;34m(\u001b[0m\u001b[0;34m'IES.db'\u001b[0m\u001b[0;34m)\u001b[0m\u001b[0;34m\u001b[0m\u001b[0;34m\u001b[0m\u001b[0m\n\u001b[0m\u001b[1;32m      2\u001b[0m \u001b[0mcursor\u001b[0m \u001b[0;34m=\u001b[0m \u001b[0mconn\u001b[0m\u001b[0;34m.\u001b[0m\u001b[0mcursor\u001b[0m\u001b[0;34m(\u001b[0m\u001b[0;34m)\u001b[0m\u001b[0;34m\u001b[0m\u001b[0;34m\u001b[0m\u001b[0m\n\u001b[1;32m      3\u001b[0m \u001b[0;34m\u001b[0m\u001b[0m\n\u001b[1;32m      4\u001b[0m cursor.execute(\"\"\"\n\u001b[1;32m      5\u001b[0m     \u001b[0mSELECT\u001b[0m\u001b[0;34m\u001b[0m\u001b[0;34m\u001b[0m\u001b[0m\n",
            "\u001b[0;31mNameError\u001b[0m: name 'sqlite3' is not defined"
          ]
        }
      ]
    },
    {
      "cell_type": "markdown",
      "source": [
        "## Tabela auxiliar"
      ],
      "metadata": {
        "id": "OaDzieW2ftnx"
      }
    },
    {
      "cell_type": "code",
      "source": [
        "conn = sqlite3.connect('IES.db')\n",
        "cursor = conn.cursor()\n",
        "\n",
        "cursor.execute('''\n",
        "    CREATE TABLE DGeografica (\n",
        "        regiao TEXT,\n",
        "        nome_uf TEXT,\n",
        "        sigla_uf TEXT,\n",
        "        municipio TEXT,\n",
        "        capital INTEGER,\n",
        "        CO_MUNICIPIO_IES INTEGER,\n",
        "        chave_geografica INTEGER PRIMARY KEY\n",
        "    )\n",
        "''')\n",
        "\n",
        "conn.commit()\n",
        "\n",
        "for index, row in dgeografica_df.iterrows():\n",
        "    cursor.execute('''\n",
        "        INSERT INTO DGeografica (regiao, nome_uf, sigla_uf, municipio, capital, CO_MUNICIPIO_IES, chave_geografica)\n",
        "        VALUES (?, ?, ?, ?, ?, ?, ?)\n",
        "    ''', (row['regiao'], row['nome_uf'], row['sigla_uf'], row['municipio'], row['capital'], row['CO_MUNICIPIO_IES'], row['chave_geografica']))\n",
        "\n",
        "conn.commit()\n",
        "conn.close()"
      ],
      "metadata": {
        "id": "3HK1_D8sfvJx"
      },
      "execution_count": null,
      "outputs": []
    },
    {
      "cell_type": "markdown",
      "source": [
        "# DInstituicao"
      ],
      "metadata": {
        "id": "U7ygGjS5bgcf"
      }
    },
    {
      "cell_type": "code",
      "source": [
        "conn = sqlite3.connect('IES.db')\n",
        "cursor = conn.cursor()\n",
        "\n",
        "cursor.execute(\"\"\"\n",
        "    SELECT\n",
        "        CO_IES,\n",
        "        NO_IES as nome,\n",
        "        SG_IES as sigla,\n",
        "        TP_ORGANIZACAO_ACADEMICA as tipo_organizacao_academica,\n",
        "        TP_REDE as tipo_rede,\n",
        "        TP_CATEGORIA_ADMINISTRATIVA as tipo_categoria_adninistrativa,\n",
        "        ROW_NUMBER() OVER (ORDER BY CO_IES) AS chave_instituicao\n",
        "    FROM IES\n",
        "    GROUP BY CO_IES;\n",
        "\"\"\")\n",
        "\n",
        "results = cursor.fetchall()\n",
        "dinstituicao_df = pd.DataFrame(results, columns=['CO_IES', 'nome', 'sigla', 'tipo_organizacao_academica', 'tipo_rede', 'tipo_categoria_adninistrativa', 'chave_instituicao'])\n",
        "dinstituicao_df_result = dinstituicao_df.drop(columns=['CO_IES'])\n",
        "\n",
        "dinstituicao_df_result.to_csv('DInstituicao.csv', index=False)\n",
        "\n",
        "conn.close()"
      ],
      "metadata": {
        "id": "NGwtjDV3biAn"
      },
      "execution_count": null,
      "outputs": []
    },
    {
      "cell_type": "markdown",
      "source": [
        "## Tabela auxiliar"
      ],
      "metadata": {
        "id": "5NOGFjbsglfS"
      }
    },
    {
      "cell_type": "code",
      "source": [
        "conn = sqlite3.connect('IES.db')\n",
        "cursor = conn.cursor()\n",
        "\n",
        "cursor.execute('''\n",
        "    CREATE TABLE DInstituicao (\n",
        "        nome TEXT,\n",
        "        sigla TEXT,\n",
        "        tipo_organizacao_academica TEXT,\n",
        "        tipo_rede TEXT,\n",
        "        tipo_categoria_adninistrativa TEXT,\n",
        "        CO_IES INTEGER,\n",
        "        chave_instituicao INTEGER PRIMARY KEY\n",
        "    )\n",
        "''')\n",
        "\n",
        "conn.commit()\n",
        "\n",
        "for index, row in dinstituicao_df.iterrows():\n",
        "    cursor.execute('''\n",
        "        INSERT INTO DInstituicao (nome, sigla, tipo_organizacao_academica, tipo_rede, tipo_categoria_adninistrativa, CO_IES, chave_instituicao)\n",
        "        VALUES (?, ?, ?, ?, ?, ?, ?)\n",
        "    ''', (row['nome'], row['sigla'], row['tipo_organizacao_academica'], row['tipo_rede'], row['tipo_categoria_adninistrativa'], row['CO_IES'], row['chave_instituicao']))\n",
        "\n",
        "conn.commit()\n",
        "conn.close()"
      ],
      "metadata": {
        "id": "yjpZAssRgnPp"
      },
      "execution_count": null,
      "outputs": []
    },
    {
      "cell_type": "markdown",
      "source": [
        "# FDocentesIES"
      ],
      "metadata": {
        "id": "ttiwc50idyxR"
      }
    },
    {
      "cell_type": "code",
      "source": [
        "conn = sqlite3.connect('IES.db')\n",
        "cursor = conn.cursor()\n",
        "\n",
        "query = \"\"\"\n",
        "    SELECT\n",
        "        dt.chave_tempo,\n",
        "        dg.chave_geografica,\n",
        "        di.chave_instituicao,\n",
        "\n",
        "        i.QT_DOC_EXE,\n",
        "        i.QT_DOC_EX_0_29,\n",
        "        i.QT_DOC_EX_30_34,\n",
        "        i.QT_DOC_EX_35_39,\n",
        "        i.QT_DOC_EX_40_44,\n",
        "        i.QT_DOC_EX_45_49,\n",
        "        i.QT_DOC_EX_50_54,\n",
        "        i.QT_DOC_EX_55_59,\n",
        "        i.QT_DOC_EX_60_MAIS,\n",
        "        i.QT_DOC_EX_AMARELA,\n",
        "        i.QT_DOC_EX_BRANCA,\n",
        "        i.QT_DOC_EX_COR_ND,\n",
        "        i.QT_DOC_TOTAL,\n",
        "        i.QT_DOC_EX_FEMI,\n",
        "        i.QT_DOC_EX_MASC,\n",
        "        i.QT_DOC_EX_PRETA,\n",
        "        i.QT_DOC_EX_PARDA,\n",
        "        i.QT_DOC_EX_INDIGENA\n",
        "    FROM IES i\n",
        "    JOIN DTempo dt ON i.NU_ANO_CENSO = dt.ano\n",
        "    JOIN DGeografica dg ON i.CO_MUNICIPIO_IES = dg.CO_MUNICIPIO_IES\n",
        "    JOIN DInstituicao di ON i.CO_IES = di.CO_IES\n",
        "    ORDER BY chave_tempo, chave_geografica, chave_instituicao;\n",
        "\"\"\"\n",
        "\n",
        "cursor.execute(query)\n",
        "results = cursor.fetchall()\n",
        "\n",
        "columns = [\n",
        "    'chave_tempo', 'chave_geografica', 'chave_instituicao', 'QT_DOC_EXE', 'QT_DOC_EX_0_29',\n",
        "    'QT_DOC_EX_30_34', 'QT_DOC_EX_35_39', 'QT_DOC_EX_40_44', 'QT_DOC_EX_45_49',\n",
        "    'QT_DOC_EX_50_54', 'QT_DOC_EX_55_59', 'QT_DOC_EX_60_MAIS', 'QT_DOC_EX_AMARELA',\n",
        "    'QT_DOC_EX_BRANCA', 'QT_DOC_EX_COR_ND', 'QT_DOC_TOTAL', 'QT_DOC_EX_FEMI',\n",
        "    'QT_DOC_EX_MASC', 'QT_DOC_EX_PRETA', 'QT_DOC_EX_PARDA', 'QT_DOC_EX_INDIGENA',\n",
        "]\n",
        "\n",
        "df_fact = pd.DataFrame(results, columns=columns)\n",
        "df_fact.to_csv('FDocentesIES.csv', index=False)\n",
        "\n",
        "conn.close()"
      ],
      "metadata": {
        "id": "ohZvtsSIhMfK"
      },
      "execution_count": null,
      "outputs": []
    },
    {
      "cell_type": "markdown",
      "source": [
        "# FMunicipio"
      ],
      "metadata": {
        "id": "L-weOarM48rx"
      }
    },
    {
      "cell_type": "markdown",
      "source": [
        "## Area"
      ],
      "metadata": {
        "id": "qW16EoMR6jCq"
      }
    },
    {
      "cell_type": "code",
      "source": [
        "df_municipios = pd.read_csv('BR_Municipios_2022.csv')\n",
        "\n",
        "conn = sqlite3.connect('IES.db')\n",
        "cursor = conn.cursor()\n",
        "\n",
        "cursor.execute(\"\"\"\n",
        "CREATE TABLE area_mun (\n",
        "    id_municipio INTEGER PRIMARY KEY,\n",
        "    total_area REAL\n",
        ");\n",
        "\"\"\")\n",
        "\n",
        "for index, row in df_municipios.iterrows():\n",
        "    try:\n",
        "        cursor.execute(\"INSERT INTO area_mun (id_municipio, total_area) VALUES (?, ?)\", (row['CD_MUN'], row['AREA_KM2']))\n",
        "    except Exception as e:\n",
        "        print(f\"Erro ao inserir dados: {e}\")\n",
        "\n",
        "conn.commit()\n",
        "conn.close()"
      ],
      "metadata": {
        "id": "UL8OGOIO6ljq"
      },
      "execution_count": null,
      "outputs": []
    },
    {
      "cell_type": "markdown",
      "source": [
        "## Populacao"
      ],
      "metadata": {
        "id": "mnfUGpbu7cMC"
      }
    },
    {
      "cell_type": "code",
      "source": [
        "df_municipios = pd.read_csv('br_ibge_populacao_municipio.csv')\n",
        "\n",
        "conn = sqlite3.connect('IES.db')\n",
        "cursor = conn.cursor()\n",
        "\n",
        "cursor.execute(\"\"\"\n",
        "CREATE TABLE populacao_mun (\n",
        "    id_municipio INTEGER,\n",
        "    ano INTEGER,\n",
        "    total_populacao INTEGER,\n",
        "    PRIMARY KEY (id_municipio, ano)\n",
        ");\n",
        "\"\"\")\n",
        "\n",
        "for index, row in df_municipios.iterrows():\n",
        "    try:\n",
        "        cursor.execute(\"INSERT INTO populacao_mun (id_municipio, ano, total_populacao) VALUES (?, ?, ?)\", (row['id_municipio'], row['ano'], row['populacao']))\n",
        "    except Exception as e:\n",
        "        print(f\"Erro ao inserir dados: {e}\")\n",
        "\n",
        "conn.commit()\n",
        "conn.close()"
      ],
      "metadata": {
        "id": "3qpDu-f47bfa"
      },
      "execution_count": null,
      "outputs": []
    },
    {
      "cell_type": "markdown",
      "source": [
        "## JOIN Area, Populacao, DGeografica e DTempo"
      ],
      "metadata": {
        "id": "fHSeauEO8CRD"
      }
    },
    {
      "cell_type": "code",
      "source": [
        "conn = sqlite3.connect('IES.db')\n",
        "cursor = conn.cursor()\n",
        "\n",
        "cursor.execute(\"\"\"\n",
        "SELECT\n",
        "    g.chave_geografica,\n",
        "    t.chave_tempo,\n",
        "    am.total_area,\n",
        "    pm.total_populacao\n",
        "FROM area_mun am\n",
        "JOIN populacao_mun pm ON am.id_municipio = pm.id_municipio\n",
        "JOIN DTempo t ON pm.ano = t.ano\n",
        "JOIN DGeografica g ON pm.id_municipio = g.CO_MUNICIPIO_IES\n",
        "ORDER BY g.chave_geografica, t.chave_tempo;\n",
        "\"\"\")\n",
        "\n",
        "results = cursor.fetchall()\n",
        "conn.close()\n",
        "\n",
        "df = pd.DataFrame(results, columns=['chave_geografica', 'chave_tempo', 'total_area', 'total_populacao'])\n",
        "df.to_csv('FMunicipio.csv', index=False)"
      ],
      "metadata": {
        "id": "NLL4o89n8Dva"
      },
      "execution_count": null,
      "outputs": []
    }
  ]
}